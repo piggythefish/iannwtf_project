{
 "cells": [
  {
   "cell_type": "code",
   "execution_count": 16,
   "metadata": {},
   "outputs": [],
   "source": [
    "from miditok import REMI\n",
    "from miditok.utils import get_midi_programs\n",
    "from miditoolkit import MidiFile\n",
    "from pathlib import Path\n",
    "\n",
    "# Creates the tokenizer and loads a MIDI\n",
    "tokenizer = REMI()  # using the default parameters, read the documentation to customize your tokenizer\n",
    "midi = MidiFile('Dataset/chopin/chp_op18.mid')\n",
    "\n",
    "# Converts MIDI to tokens, and back to a MIDI\n",
    "tokens = tokenizer(midi)  # automatically detects MIDIs and tokens before converting\n",
    "converted_back_midi = tokenizer(tokens, get_midi_programs(midi))  # PyTorch / Tensorflow / Numpy tensors supported\n",
    "# get path to processed data\n",
    "token_BPE_path = Path('Dataset_tokenized_BPE')\n"
   ]
  },
  {
   "cell_type": "code",
   "execution_count": 25,
   "metadata": {},
   "outputs": [
    {
     "data": {
      "text/plain": [
       "<ShuffleDataset element_spec=TensorSpec(shape=(), dtype=tf.string, name=None)>"
      ]
     },
     "execution_count": 25,
     "metadata": {},
     "output_type": "execute_result"
    }
   ],
   "source": [
    "import tensorflow as tf\n",
    "list_ds = tf.data.Dataset.list_files(str(token_BPE_path/'*.json'))\n",
    "list_ds"
   ]
  }
 ],
 "metadata": {
  "kernelspec": {
   "display_name": "iannwtf",
   "language": "python",
   "name": "python3"
  },
  "language_info": {
   "codemirror_mode": {
    "name": "ipython",
    "version": 3
   },
   "file_extension": ".py",
   "mimetype": "text/x-python",
   "name": "python",
   "nbconvert_exporter": "python",
   "pygments_lexer": "ipython3",
   "version": "3.7.13"
  },
  "orig_nbformat": 4,
  "vscode": {
   "interpreter": {
    "hash": "4dc7ff763bccf8d187fcb6b4b66c3bdc5a17148cd281fe390abc7e32c62a720d"
   }
  }
 },
 "nbformat": 4,
 "nbformat_minor": 2
}
