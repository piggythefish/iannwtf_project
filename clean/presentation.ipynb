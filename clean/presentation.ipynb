{
 "cells": [
  {
   "attachments": {},
   "cell_type": "markdown",
   "metadata": {},
   "source": [
    "We first had to convert our music, which is contained in the midi format, to useable tokens which our transformer can process. Luckily we found the miditok library which does exactly that, it is a tokenizer that converts midi files into tokens."
   ]
  },
  {
   "cell_type": "code",
   "execution_count": 2,
   "metadata": {},
   "outputs": [
    {
     "name": "stderr",
     "output_type": "stream",
     "text": [
      "Tokenizing MIDIs (data/tokens_small_noBPE): 100%|██████████| 295/295 [01:35<00:00,  3.10it/s]\n",
      "Loading token files: 100%|██████████| 295/295 [00:05<00:00, 55.84it/s]\n",
      "Learning byte pair encoding: 100%|██████████| 292/292 [09:25<00:00,  1.94s/it, seq_len_variation=-32.92, avg_nb_token_combs=2.63, max_nb_token_combs=4]\n"
     ]
    },
    {
     "name": "stdout",
     "output_type": "stream",
     "text": [
      "Mean of original lengths: 4342.993569131832\n",
      "Mean length after BPE: 2913.4774919614147\n",
      "Variation from original: -32.92 %\n"
     ]
    },
    {
     "name": "stderr",
     "output_type": "stream",
     "text": [
      "Applying BPE to dataset: 100%|██████████| 295/295 [01:58<00:00,  2.50it/s]\n"
     ]
    }
   ],
   "source": [
    "from miditok import REMI\n",
    "from pathlib import Path\n",
    "\n",
    "# A validation method to discard MIDIs we do not want\n",
    "def midi_valid(midi) -> bool:\n",
    "    if any(ts.numerator != 4 for ts in midi.time_signature_changes):\n",
    "        return False  # time signature different from 4/*, 4 beats per bar\n",
    "    if midi.max_tick < 10 * midi.ticks_per_beat:\n",
    "        return False  # this MIDI is too short\n",
    "    return True\n",
    "\n",
    "# Paths to the MIDI files paths to where the tokens will be saved\n",
    "path_midi_files = 'data/dataset_small/'\n",
    "path_tokens_noBPE = 'data/tokens_small_noBPE/'\n",
    "path_tokens_BPE = 'data/tokens_small_BPE/'\n",
    "\n",
    "# Creates the tokenizer and list the file paths\n",
    "tokenizer = REMI(sos_eos=True)\n",
    "midi_paths = list(Path(path_midi_files).glob('**/*.mid*'))\n",
    "\n",
    "# Converts MIDI files to tokens saved as JSON files\n",
    "tokenizer.tokenize_midi_dataset(        \n",
    "    midi_paths,\n",
    "    Path(path_tokens_noBPE),\n",
    "    midi_valid\n",
    ")\n",
    "\n",
    "# Learns the BPE from non-BPE tokens\n",
    "tokenizer.learn_bpe(\n",
    "    path_tokens_noBPE,\n",
    "    512,\n",
    "    path_tokens_BPE\n",
    ")\n",
    "\n",
    "# Applies the learned BPE to the non-BPE tokens\n",
    "tokenizer.apply_bpe_to_dataset(Path(path_tokens_noBPE), Path(path_tokens_BPE))"
   ]
  },
  {
   "attachments": {},
   "cell_type": "markdown",
   "metadata": {},
   "source": [
    "The tokenizer outputs the tokenized music as JSON files. We therefore had to convert them into numpy arrays, which we can further process."
   ]
  },
  {
   "cell_type": "code",
   "execution_count": 6,
   "metadata": {},
   "outputs": [],
   "source": [
    "import json\n",
    "import numpy as np\n",
    "import os\n",
    "\n",
    "# Turns all the json files from tokenizaion in a folder into numpy arrays\n",
    "def json_to_nparray(path):\n",
    "    for filename in os.listdir(path):\n",
    "        if filename.endswith('.json'):\n",
    "            with open(path + filename) as f:\n",
    "                data = json.load(f)\n",
    "                np.save(path + filename[:-5], np.array(data))\n",
    "            continue\n",
    "        else:\n",
    "            continue\n",
    "        \n",
    "json_to_nparray(path_tokens_BPE)"
   ]
  },
  {
   "attachments": {},
   "cell_type": "markdown",
   "metadata": {},
   "source": [
    "Due to the weird nested structure of the converted output from the tokenizer we had to write a function which de-nestifies our desired tokens so that we can put them in a single plain numpy array. Once that is done, we used np.save to save us this step because it could quite take some time with big datasets."
   ]
  },
  {
   "cell_type": "code",
   "execution_count": 7,
   "metadata": {},
   "outputs": [],
   "source": [
    "def get_tokens(path): # function to get all tokens from the dataset and put them in a numpy array\n",
    "    to_shuffle = np.array(()) # to_shuffle aggregator for one piece\n",
    "    data = np.array(()) # data aggregator for one piece\n",
    "    piece_counter = 0\n",
    "    \n",
    "    for filename in os.listdir(path):\n",
    "        if filename.endswith('.npy'):\n",
    "            to_shuffle = np.append(to_shuffle, np.load(path + filename, allow_pickle=True)[()])\n",
    "    np.random.shuffle(to_shuffle)\n",
    "    \n",
    "    for i in range(len(to_shuffle)):\n",
    "        data = np.append(data, 1)\n",
    "        for j in range(len(to_shuffle[i].get('tokens'))):\n",
    "            data = np.append(data, to_shuffle[i].get('tokens')[j])\n",
    "        data = np.append(data, 2)\n",
    "        piece_counter += 1\n",
    "        \n",
    "    return data, piece_counter\n",
    "\n",
    "tokens, piece_counter = get_tokens(path_tokens_BPE)\n",
    "\n",
    "np.save(path_tokens_BPE, tokens)"
   ]
  },
  {
   "attachments": {},
   "cell_type": "markdown",
   "metadata": {},
   "source": [
    "Then we print some information about our tokens and plot how the tokens are distributed. Our number of tokens, which is also our vocab size, is 512 because we decided to have this size when learning the BPE for the tokens. Some tokens are missing, they just do not show up in the data. The learned BPE tokens start at value 220, so every token after that is a BPE token. The first big pile of tokens between value 0 and 100 are the tokens for all the pitches, the second smaller pile are tokens for velocity and after that we have the tokens for duration and position."
   ]
  },
  {
   "cell_type": "code",
   "execution_count": 8,
   "metadata": {},
   "outputs": [
    {
     "name": "stdout",
     "output_type": "stream",
     "text": [
      "Number of tokens: 512\n",
      "Missing tokens: {0, 178, 180, 182, 184, 91, 188}\n"
     ]
    },
    {
     "data": {
      "image/png": "[encoded data removed]",
      "text/plain": [
       "<Figure size 1000x500 with 1 Axes>"
      ]
     },
     "metadata": {},
     "output_type": "display_data"
    }
   ],
   "source": [
    "import matplotlib.pyplot as plt\n",
    "# plot the distribution of the tokens\n",
    "print(f'Number of tokens: {tokenizer.len}')\n",
    "print(f'Missing tokens: {set(range(0, 512))-set(tokens)}')\n",
    "\n",
    "plt.figure(figsize=(10, 5))\n",
    "plt.hist(tokens, bins=500)\n",
    "plt.show()"
   ]
  },
  {
   "attachments": {},
   "cell_type": "markdown",
   "metadata": {},
   "source": [
    "Then we go on doing the basic preprocessing of the data, where we have a 90:10 split for training and validation. Sequences are made of length seq_length, \n",
    "where we create input target pairs from the data. The input is a sequence of tokens and the target is the next token in the sequence up to seq_length. After that\n",
    "the usual shuffling, batching and prefetching is done.\n"
   ]
  },
  {
   "cell_type": "code",
   "execution_count": 10,
   "metadata": {},
   "outputs": [],
   "source": [
    "import tensorflow as tf\n",
    "\n",
    "# create input and target sequences\n",
    "def split_input_target(chunk): # split the input and the target\n",
    "    input_text = chunk[:-1] # input is the sequence without the last token\n",
    "    target_text = chunk[1:] # target is the sequence without the first token\n",
    "    return input_text, target_text\n",
    "\n",
    "# usual shuffling, batching and prefetching\n",
    "def make_batches(ds, batch_size):\n",
    "  return ds.shuffle(4096).batch(batch_size).prefetch(tf.data.AUTOTUNE)\n",
    "\n",
    "# function to create the dataset\n",
    "def get_ds(npy_path, seq_length, batch_size):\n",
    "    tokens = np.load(npy_path) # load the numpy array with all tokens\n",
    "    data = tf.cast(tokens, tf.int32) # cast the tokens to int32\n",
    "    n = int(0.9*len(data)) # split the data into train and validation \n",
    "    train_data = data[:n] # 90% train, 10% validation\n",
    "    val_data = data[n:]  \n",
    "    train_ds, val_ds = tf.data.Dataset.from_tensor_slices(train_data), tf.data.Dataset.from_tensor_slices(val_data) # create the dataset objects\n",
    "    # create the input and target sequences\n",
    "    train_ds, val_ds = train_ds.batch(seq_length+1, drop_remainder=True).map(split_input_target, tf.data.AUTOTUNE), val_ds.batch(seq_length+1, drop_remainder=True).map(split_input_target, tf.data.AUTOTUNE)\n",
    "    # shuffle, batch and prefetch\n",
    "    train_ds, val_ds = make_batches(train_ds, batch_size), make_batches(val_ds, batch_size)\n",
    "    return train_ds, val_ds"
   ]
  },
  {
   "attachments": {},
   "cell_type": "markdown",
   "metadata": {},
   "source": [
    "Here is where the magic happens, our subclassed transformer architecture. "
   ]
  },
  {
   "cell_type": "code",
   "execution_count": 11,
   "metadata": {},
   "outputs": [],
   "source": [
    "# generate the position encoding\n",
    "def positional_encoding(length, d_model):\n",
    "    pos = np.arange(length)[:, np.newaxis]\n",
    "    i = np.arange(d_model)[np.newaxis, :]\n",
    "    angle_rates = 1 / np.power(10000, (2 * (i//2)) / np.float32(d_model))\n",
    "    angle_rads = pos * angle_rates\n",
    "    # apply sin to even indices in the array; 2i\n",
    "    angle_rads[:, 0::2] = np.sin(angle_rads[:, 0::2])\n",
    "    # apply cos to odd indices in the array; 2i+1\n",
    "    angle_rads[:, 1::2] = np.cos(angle_rads[:, 1::2])\n",
    "    pos_encoding = angle_rads[np.newaxis, ...]\n",
    "    return tf.cast(pos_encoding, dtype=tf.float32)\n",
    "\n",
    "# layer for embedding and positional encoding\n",
    "class PostionalEmbedding(tf.keras.layers.Layer):\n",
    "    def __init__(self, vocab_size, d_model, block_size, dropout_rate):\n",
    "        super(PostionalEmbedding, self).__init__()\n",
    "        self.vocab_size = vocab_size\n",
    "        self.d_model = d_model\n",
    "        self.block_size = block_size\n",
    "        self.embedding = tf.keras.layers.Embedding(input_dim=vocab_size, \n",
    "                          output_dim=d_model, # each token gets a dmodel-vector embedding\n",
    "                          input_length=block_size)\n",
    "        self.pos_encoding = positional_encoding(block_size, d_model)\n",
    "        self.dropout = tf.keras.layers.Dropout(dropout_rate)\n",
    "        \n",
    "    @tf.function\n",
    "    def call(self, x):\n",
    "        x = self.embedding(x) + self.pos_encoding[:, :self.block_size, :]\n",
    "        x = self.dropout(x)\n",
    "        return x\n",
    "    \n",
    "# dot-product attention\n",
    "class ScaledDotProductAttention(tf.keras.layers.Layer):\n",
    "    def __init__(self, d_model, n_heads, dropout_rate):\n",
    "        super(ScaledDotProductAttention, self).__init__()\n",
    "        self.head_size = d_model // n_heads\n",
    "        self.key = tf.keras.layers.Dense(units=self.head_size, use_bias=False)\n",
    "        self.query = tf.keras.layers.Dense(units=self.head_size, use_bias=False)\n",
    "        self.value = tf.keras.layers.Dense(units=self.head_size, use_bias=False)\n",
    "        self.dropout = tf.keras.layers.Dropout(dropout_rate)\n",
    "\n",
    "    @tf.function\n",
    "    def call(self, x):\n",
    "        B, T, C = x.shape\n",
    "        k = self.key(x)\n",
    "        q = self.query(x)\n",
    "        v = self.value(x)\n",
    "        # compute scores\n",
    "        scores = tf.matmul(q,tf.transpose(k, perm=[0, 2, 1])) / tf.math.sqrt(tf.cast(self.head_size, tf.float32))\n",
    "        tril = tf.linalg.band_part(tf.ones((T, T)), -1, 0)\n",
    "        scores = tf.where(tril == 0, tf.fill(tril.shape, -float('inf')), scores)\n",
    "        scores = tf.nn.softmax(scores, axis=-1)\n",
    "        scores = self.dropout(scores)\n",
    "        # weighted sum of values\n",
    "        return tf.matmul(scores, v)\n",
    "\n",
    "# multi-head attention\n",
    "class MultiHeadAttention(tf.keras.layers.Layer):\n",
    "    def __init__(self, d_model, n_heads, dropout_rate):\n",
    "        super(MultiHeadAttention, self).__init__()\n",
    "        self.heads = [ScaledDotProductAttention(d_model, n_heads, dropout_rate) for _ in range(n_heads)]\n",
    "        self.dense = tf.keras.layers.Dense(units=d_model, use_bias=False)\n",
    "    \n",
    "    @tf.function\n",
    "    def call(self, x):\n",
    "        x = tf.concat([head(x) for head in self.heads], axis=-1)\n",
    "        x = self.dense(x)\n",
    "        return x\n",
    "    \n",
    "# feed-forward network\n",
    "class FeedForwardNetwork(tf.keras.layers.Layer):\n",
    "    def __init__(self, d_model, dff):\n",
    "        super(FeedForwardNetwork, self).__init__()\n",
    "        self.dense1 = tf.keras.layers.Dense(units=dff, activation=tf.nn.gelu, use_bias=False)\n",
    "        self.dense2 = tf.keras.layers.Dense(units=d_model, use_bias=False)\n",
    "\n",
    "    @tf.function\n",
    "    def call(self, x):\n",
    "        x = self.dense1(x)\n",
    "        x = self.dense2(x)\n",
    "        return x\n",
    "\n",
    "# implementaion of SwiGLUFFN\n",
    "class SwiGLUFFN(tf.keras.layers.Layer):\n",
    "    def __init__(self, d_model, dff):\n",
    "        super(SwiGLUFFN, self).__init__()\n",
    "        self.dense1 = tf.keras.layers.Dense(units=(dff//3)*2, activation=tf.nn.silu, use_bias=False)\n",
    "        self.dense2 = tf.keras.layers.Dense(units=(dff//3)*2, use_bias=False)\n",
    "        self.dense3 = tf.keras.layers.Dense(units=d_model, use_bias=False)\n",
    "\n",
    "    @tf.function\n",
    "    def call(self, x):\n",
    "        w = self.dense1(x)\n",
    "        v = self.dense2(x)\n",
    "        x = self.dense3(w*v)\n",
    "        return x\n",
    "\n",
    "# decoder layer\n",
    "class DecoderLayer(tf.keras.layers.Layer):\n",
    "    def __init__(self, d_model, n_heads, dff, dropout_rate):\n",
    "        super(DecoderLayer, self).__init__()\n",
    "        self.mha = MultiHeadAttention(d_model, n_heads, dropout_rate)\n",
    "        self.ffn = SwiGLUFFN(d_model, dff)\n",
    "        self.layernorm1 = tf.keras.layers.LayerNormalization()\n",
    "        self.layernorm2 = tf.keras.layers.LayerNormalization()\n",
    "        self.dropout = tf.keras.layers.Dropout(dropout_rate)\n",
    "        self.add = tf.keras.layers.Add()\n",
    "    \n",
    "    @tf.function\n",
    "    def call(self, x):\n",
    "        res_x = x\n",
    "        x = self.layernorm1(x)\n",
    "        x = self.mha(x)\n",
    "        x = self.dropout(x)\n",
    "        x = self.add([res_x, x])\n",
    "        res_x = x\n",
    "        x = self.layernorm2(x)\n",
    "        x = self.ffn(x)\n",
    "        x = self.dropout(x)\n",
    "        x = self.add([res_x, x])\n",
    "        return x\n",
    "    \n",
    "# decoder\n",
    "class Decoder(tf.keras.layers.Layer):\n",
    "    def __init__(self, vocab_size, d_model, n_heads, dff, dropout_rate, n_layers, block_size):\n",
    "        super(Decoder, self).__init__()\n",
    "        self.embedding = PostionalEmbedding(vocab_size, d_model, block_size, dropout_rate)\n",
    "        self.layers = [DecoderLayer(d_model, n_heads, dff, dropout_rate) for _ in range(n_layers)]\n",
    "\n",
    "    \n",
    "    @tf.function\n",
    "    def call(self, x):\n",
    "        x = self.embedding(x)\n",
    "        for layer in self.layers:\n",
    "            x = layer(x)\n",
    "        return x\n",
    "    \n",
    "# transformer\n",
    "class Transformer(tf.keras.Model):\n",
    "    def __init__(self, vocab_size, d_model, n_heads, dff, dropout_rate, n_layers, block_size):\n",
    "        super(Transformer, self).__init__()\n",
    "        self.decoder = Decoder(vocab_size, d_model, n_heads, dff, dropout_rate, n_layers, block_size)\n",
    "        self.final_dense = tf.keras.layers.Dense(units=vocab_size)\n",
    "    \n",
    "    @tf.function\n",
    "    def call(self, x):\n",
    "        x = self.decoder(x)\n",
    "        logits = self.final_dense(x)\n",
    "        return logits\n",
    "    \n",
    "class CustomSchedule(tf.keras.optimizers.schedules.LearningRateSchedule):\n",
    "  def __init__(self, d_model, warmup_steps=4000):\n",
    "    super().__init__()\n",
    "\n",
    "    self.d_model = d_model\n",
    "    self.d_model = tf.cast(self.d_model, tf.float32)\n",
    "\n",
    "    self.warmup_steps = warmup_steps\n",
    "\n",
    "  def __call__(self, step):\n",
    "    step = tf.cast(step, dtype=tf.float32)\n",
    "    arg1 = tf.math.rsqrt(step)\n",
    "    arg2 = step * (self.warmup_steps ** -1.5)\n",
    "\n",
    "    return tf.math.rsqrt(self.d_model) * tf.math.minimum(arg1, arg2)\n"
   ]
  },
  {
   "attachments": {},
   "cell_type": "markdown",
   "metadata": {},
   "source": [
    "These are the hyperparameter for our model. "
   ]
  },
  {
   "cell_type": "code",
   "execution_count": 12,
   "metadata": {},
   "outputs": [],
   "source": [
    "d_model = 96 # also embedding size\n",
    "dff = 384 # inner feedforward layer dim\n",
    "n_heads = 8 # number of heads in the multihead attention layer\n",
    "n_layers = 6 # number of layers\n",
    "dropout_rate = 0.1 # dropout rate\n",
    "epochs = 200 # number of epochs\n",
    "seq_length = 2048 # length of the sequence\n",
    "batch_size = 16 # batch size\n",
    "vocab_size = tokenizer.len # size of the vocabulary"
   ]
  },
  {
   "attachments": {},
   "cell_type": "markdown",
   "metadata": {},
   "source": [
    "For the learning rate we used a learning rate scheduler according to the attention is all you need paper. The learning rate increases linearly depending on the number of warmup steps (in our case 4000). After that the learning rate decreases like a root function."
   ]
  },
  {
   "cell_type": "code",
   "execution_count": 13,
   "metadata": {},
   "outputs": [
    {
     "data": {
      "text/plain": [
       "Text(0.5, 0, 'Train Step')"
      ]
     },
     "execution_count": 13,
     "metadata": {},
     "output_type": "execute_result"
    },
    {
     "data": {
      "image/png": "[encoded data removed]",
      "text/plain": [
       "<Figure size 640x480 with 1 Axes>"
      ]
     },
     "metadata": {},
     "output_type": "display_data"
    }
   ],
   "source": [
    "learning_rate = CustomSchedule(d_model)\n",
    "plt.plot(learning_rate(tf.range(50000, dtype=tf.float32)))\n",
    "plt.ylabel('Learning Rate')\n",
    "plt.xlabel('Train Step')"
   ]
  },
  {
   "attachments": {},
   "cell_type": "markdown",
   "metadata": {},
   "source": [
    "Here comes the training procedure."
   ]
  },
  {
   "cell_type": "code",
   "execution_count": null,
   "metadata": {},
   "outputs": [],
   "source": [
    "import datetime\n",
    "\n",
    "# our masked loss function\n",
    "def masked_loss(label, pred):\n",
    "  mask = label != 0\n",
    "  loss_object = tf.keras.losses.SparseCategoricalCrossentropy(\n",
    "    from_logits=True, reduction='none')\n",
    "  loss = loss_object(label, pred)\n",
    "\n",
    "  mask = tf.cast(mask, dtype=loss.dtype)\n",
    "  loss *= mask\n",
    "\n",
    "  loss = tf.reduce_sum(loss)/tf.reduce_sum(mask)\n",
    "  return loss\n",
    "\n",
    "# our masked accuracy function\n",
    "def masked_accuracy(label, pred):\n",
    "  pred = tf.argmax(pred, axis=2)\n",
    "  label = tf.cast(label, pred.dtype)\n",
    "  match = label == pred\n",
    "\n",
    "  mask = label != 0\n",
    "\n",
    "  match = match & mask\n",
    "\n",
    "  match = tf.cast(match, dtype=tf.float32)\n",
    "  mask = tf.cast(mask, dtype=tf.float32)\n",
    "  return tf.reduce_sum(match)/tf.reduce_sum(mask)\n",
    "\n",
    "# filepath to data\n",
    "small_data = 'data/SMALL_2M_BPE.npy'\n",
    "\n",
    "# create dataset objects from data\n",
    "train_ds, val_ds = get_ds(small_data, seq_length, batch_size)\n",
    "\n",
    "# learning rate schedule\n",
    "learning_rate = CustomSchedule(d_model)\n",
    "\n",
    "# optimizer as defined in the paper attention is all you need\n",
    "optimizer = tf.keras.optimizers.Adam(learning_rate, beta_1=0.9, beta_2=0.98,\n",
    "                                     epsilon=2e-9)\n",
    "\n",
    "# create the model\n",
    "model = Transformer(vocab_size, d_model, n_heads, dff, dropout_rate, n_layers, seq_length)\n",
    "\n",
    "# Include the epoch in the file name (uses `str.format`)\n",
    "checkpoint_path = '/checkpoints/data2Mparams1.3M/cp-{epoch:04d}.ckpt'\n",
    "checkpoint_dir = os.path.dirname(checkpoint_path)\n",
    "\n",
    "# Create a callback that saves the model's weights every epoch\n",
    "cp_callback = tf.keras.callbacks.ModelCheckpoint(\n",
    "    filepath=checkpoint_path, \n",
    "    verbose=1, \n",
    "    save_weights_only=True,\n",
    "    save_freq=100)\n",
    "\n",
    "# create a log directory for tensorboard\n",
    "logdir = \"/logs/data7Mparams2M/fit/\"\n",
    "log_dir = logdir + datetime.datetime.now().strftime(\"%Y%m%d-%H%M%S\")\n",
    "tensorboard_callback = tf.keras.callbacks.TensorBoard(log_dir=log_dir)\n",
    "\n",
    "# start tensorboard\n",
    "%tensorboard --logdir \"/content/drive/My Drive/iannwtf_project/clean/logs/data7Mparams1.3M/fit/\"\n",
    "\n",
    "# compile the model\n",
    "model.compile(optimizer=optimizer, loss=masked_loss, metrics=[masked_accuracy])\n",
    "\n",
    "# train the model\n",
    "model.fit(train_ds, epochs=epochs, validation_data=val_ds, callbacks=[tensorboard_callback, cp_callback])"
   ]
  },
  {
   "attachments": {},
   "cell_type": "markdown",
   "metadata": {},
   "source": [
    "As last step we have to use our trained model to generate token sequences and then convert them back into a midi file so that we can listen to what we have achieved."
   ]
  },
  {
   "cell_type": "code",
   "execution_count": null,
   "metadata": {},
   "outputs": [],
   "source": [
    "# function to generate the tokens sampling from the logits\n",
    "def generate_tokens_sampling(model, start_token, max_len):\n",
    "    for i in range(max_len):\n",
    "        logits = model(start_token) # generate logits for the next token\n",
    "        start_token_numpy = start_token.numpy() # convert the tensor to numpy array\n",
    "        start_token_numpy[:, i+1] = tf.random.categorical(logits[:,i], num_samples=1).numpy() # sample a token from the logits and add it to the sequence\n",
    "        start_token = tf.constant(start_token_numpy, dtype=tf.int64) # convert the numpy array to tensor\n",
    "        if start_token_numpy[:, i+1] == 2: # stop when the end token is predicted\n",
    "            break\n",
    "    return start_token\n",
    "\n",
    "# max_len is seq_length - 1 because the first token has to be the start token\n",
    "max_len = seq_length - 1\n",
    "# start token is a tensor with the first token being the start token and the rest being 0\n",
    "start_token = tf.constant([[1] + [0] * (max_len)], dtype=tf.int64)\n",
    "# then we generate the tokens with our sampling function\n",
    "sampled_tokens = generate_tokens_sampling(model, start_token, max_len)\n",
    "# and finally we convert the tokens to midi\n",
    "tokenizer(sampled_tokens, [(0, False)]).dump(f'sample_song {datetime.datetime.now().strftime(\"%Y%m%d-%H%M%S\")}.mid')"
   ]
  }
 ],
 "metadata": {
  "kernelspec": {
   "display_name": "iannwtf",
   "language": "python",
   "name": "python3"
  },
  "language_info": {
   "codemirror_mode": {
    "name": "ipython",
    "version": 3
   },
   "file_extension": ".py",
   "mimetype": "text/x-python",
   "name": "python",
   "nbconvert_exporter": "python",
   "pygments_lexer": "ipython3",
   "version": "3.10.6"
  },
  "orig_nbformat": 4
 },
 "nbformat": 4,
 "nbformat_minor": 2
}
