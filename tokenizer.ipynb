{
 "cells": [
  {
   "cell_type": "code",
   "execution_count": 1,
   "metadata": {},
   "outputs": [
    {
     "name": "stderr",
     "output_type": "stream",
     "text": [
      "Tokenizing MIDIs (Final_Project/tokens_noBPE): 100%|██████████| 1276/1276 [11:31<00:00,  1.84it/s]\n",
      "Loading token files: 100%|██████████| 1276/1276 [00:14<00:00, 89.07it/s] \n",
      "Applying BPE to dataset: 100%|██████████| 1276/1276 [00:57<00:00, 22.08it/s]\n"
     ]
    }
   ],
   "source": [
    "from miditok import REMI\n",
    "from pathlib import Path\n",
    "\n",
    "# Creates the tokenizer and list the file paths\n",
    "tokenizer = REMI(special_tokens=[\"BOS\", \"EOS\"])\n",
    "midi_paths = list(Path('Final_Project/big_dataset').glob('**/*.midi'))\n",
    "\n",
    "# A validation method to discard MIDIs we do not want\n",
    "def midi_valid(midi) -> bool:\n",
    "    if any(ts.numerator != 4 for ts in midi.time_signature_changes):\n",
    "        return False  # time signature different from 4/*, 4 beats per bar\n",
    "    if midi.max_tick < 10 * midi.ticks_per_beat:\n",
    "        return False  # this MIDI is too short\n",
    "    return True\n",
    "\n",
    "# Converts MIDI files to tokens saved as JSON files\n",
    "tokenizer.tokenize_midi_dataset(        \n",
    "    midi_paths,\n",
    "    Path('Final_Project/tokens_noBPE'),\n",
    "    midi_valid,\n",
    ")\n",
    "\n",
    "# Learns the vocabulary with BPE\n",
    "tokenizer.learn_bpe(\n",
    "    vocab_size=512,\n",
    "    tokens_paths=list(Path('Final_Project/tokens_noBPE').glob(\"**/*.json\")),\n",
    "    start_from_empty_voc=False\n",
    ")\n",
    "\n",
    "# Converts the tokenized musics into tokens with BPE\n",
    "tokenizer.apply_bpe_to_dataset(Path('Final_Project/tokens_noBPE'), Path('Final_Project/tokens_BPE'))"
   ]
  },
  {
   "cell_type": "code",
   "execution_count": 3,
   "metadata": {},
   "outputs": [],
   "source": [
    "from miditok.utils import get_midi_programs"
   ]
  },
  {
   "cell_type": "code",
   "execution_count": 6,
   "metadata": {},
   "outputs": [],
   "source": [
    "import json\n",
    "import numpy as np\n",
    "import os\n",
    "filenames = 'Final_Project/tokens_BPE/'\n",
    "# Turns all the json files in a folder into numpy arrays\n",
    "def json_to_nparray():\n",
    "    for filename in os.listdir(filenames):\n",
    "        if filename.endswith('.json'):\n",
    "            with open(filenames + filename) as f:\n",
    "                data = json.load(f)\n",
    "                np.save(filenames + filename[:-5], np.array(data))\n",
    "            continue\n",
    "        else:\n",
    "            continue\n",
    "json_to_nparray()"
   ]
  },
  {
   "cell_type": "code",
   "execution_count": 8,
   "metadata": {},
   "outputs": [],
   "source": [
    "hure = np.load(('Final_Project/tokens_BPE/MIDI-UNPROCESSED_01-03_R1_2014_MID--AUDIO_01_R1_2014_wav--1.npy'), allow_pickle=True)[()].get('ids')"
   ]
  },
  {
   "cell_type": "code",
   "execution_count": 13,
   "metadata": {},
   "outputs": [
    {
     "data": {
      "text/plain": [
       "1"
      ]
     },
     "execution_count": 13,
     "metadata": {},
     "output_type": "execute_result"
    }
   ],
   "source": [
    "len(hure)"
   ]
  },
  {
   "cell_type": "code",
   "execution_count": 14,
   "metadata": {},
   "outputs": [
    {
     "ename": "KeyError",
     "evalue": "230",
     "output_type": "error",
     "traceback": [
      "\u001b[1;31m---------------------------------------------------------------------------\u001b[0m",
      "\u001b[1;31mKeyError\u001b[0m                                  Traceback (most recent call last)",
      "\u001b[1;32mc:\\Users\\benja\\GitHub repos\\iannwtf_project\\tokenizer.ipynb Cell 6\u001b[0m in \u001b[0;36m3\n\u001b[0;32m      <a href='vscode-notebook-cell:/c%3A/Users/benja/GitHub%20repos/iannwtf_project/tokenizer.ipynb#W4sZmlsZQ%3D%3D?line=0'>1</a>\u001b[0m \u001b[39mfrom\u001b[39;00m \u001b[39mmiditoolkit\u001b[39;00m \u001b[39mimport\u001b[39;00m MidiFile\n\u001b[0;32m      <a href='vscode-notebook-cell:/c%3A/Users/benja/GitHub%20repos/iannwtf_project/tokenizer.ipynb#W4sZmlsZQ%3D%3D?line=1'>2</a>\u001b[0m midi \u001b[39m=\u001b[39m MidiFile(\u001b[39m'\u001b[39m\u001b[39mFinal_Project/big_dataset/MIDI-UNPROCESSED_01-03_R1_2014_MID--AUDIO_01_R1_2014_wav--1.midi\u001b[39m\u001b[39m'\u001b[39m)\n\u001b[1;32m----> <a href='vscode-notebook-cell:/c%3A/Users/benja/GitHub%20repos/iannwtf_project/tokenizer.ipynb#W4sZmlsZQ%3D%3D?line=2'>3</a>\u001b[0m coverted \u001b[39m=\u001b[39m tokenizer(hure,[\u001b[39m0\u001b[39;49m, \u001b[39mFalse\u001b[39;49;00m])\n",
      "File \u001b[1;32mc:\\Users\\benja\\Anaconda3\\envs\\iannwtf\\lib\\site-packages\\miditok\\midi_tokenizer.py:1735\u001b[0m, in \u001b[0;36mMIDITokenizer.__call__\u001b[1;34m(self, obj, *args, **kwargs)\u001b[0m\n\u001b[0;32m   1733\u001b[0m     \u001b[39mreturn\u001b[39;00m \u001b[39mself\u001b[39m\u001b[39m.\u001b[39mmidi_to_tokens(obj, \u001b[39m*\u001b[39margs, \u001b[39m*\u001b[39m\u001b[39m*\u001b[39mkwargs)\n\u001b[0;32m   1734\u001b[0m \u001b[39melse\u001b[39;00m:\n\u001b[1;32m-> 1735\u001b[0m     \u001b[39mreturn\u001b[39;00m \u001b[39mself\u001b[39m\u001b[39m.\u001b[39mtokens_to_midi(obj, \u001b[39m*\u001b[39margs, \u001b[39m*\u001b[39m\u001b[39m*\u001b[39mkwargs)\n",
      "File \u001b[1;32mc:\\Users\\benja\\Anaconda3\\envs\\iannwtf\\lib\\site-packages\\miditok\\midi_tokenizer.py:619\u001b[0m, in \u001b[0;36mMIDITokenizer.tokens_to_midi\u001b[1;34m(self, tokens, programs, output_path, time_division)\u001b[0m\n\u001b[0;32m    617\u001b[0m \u001b[39mfor\u001b[39;00m i, track_tokens \u001b[39min\u001b[39;00m \u001b[39menumerate\u001b[39m(tokens):\n\u001b[0;32m    618\u001b[0m     \u001b[39mif\u001b[39;00m programs \u001b[39mis\u001b[39;00m \u001b[39mnot\u001b[39;00m \u001b[39mNone\u001b[39;00m:\n\u001b[1;32m--> 619\u001b[0m         track, tempo_changes \u001b[39m=\u001b[39m \u001b[39mself\u001b[39;49m\u001b[39m.\u001b[39;49mtokens_to_track(\n\u001b[0;32m    620\u001b[0m             track_tokens, time_division, programs[i]\n\u001b[0;32m    621\u001b[0m         )\n\u001b[0;32m    622\u001b[0m     \u001b[39melse\u001b[39;00m:\n\u001b[0;32m    623\u001b[0m         track, tempo_changes \u001b[39m=\u001b[39m \u001b[39mself\u001b[39m\u001b[39m.\u001b[39mtokens_to_track(track_tokens, time_division)\n",
      "File \u001b[1;32mc:\\Users\\benja\\Anaconda3\\envs\\iannwtf\\lib\\site-packages\\miditok\\midi_tokenizer.py:67\u001b[0m, in \u001b[0;36m_in_as_seq.<locals>.decorator.<locals>.wrapper\u001b[1;34m(*args, **kwargs)\u001b[0m\n\u001b[0;32m     65\u001b[0m     \u001b[39mself\u001b[39m\u001b[39m.\u001b[39mdecode_bpe(seq)\n\u001b[0;32m     66\u001b[0m \u001b[39mif\u001b[39;00m complete:\n\u001b[1;32m---> 67\u001b[0m     \u001b[39mself\u001b[39;49m\u001b[39m.\u001b[39;49mcomplete_sequence(seq)\n\u001b[0;32m     69\u001b[0m args \u001b[39m=\u001b[39m \u001b[39mlist\u001b[39m(args)\n\u001b[0;32m     70\u001b[0m args[\u001b[39m1\u001b[39m] \u001b[39m=\u001b[39m seq\n",
      "File \u001b[1;32mc:\\Users\\benja\\Anaconda3\\envs\\iannwtf\\lib\\site-packages\\miditok\\midi_tokenizer.py:504\u001b[0m, in \u001b[0;36mMIDITokenizer.complete_sequence\u001b[1;34m(self, seq)\u001b[0m\n\u001b[0;32m    502\u001b[0m     seq\u001b[39m.\u001b[39mtokens \u001b[39m=\u001b[39m [\u001b[39mstr\u001b[39m(event) \u001b[39mfor\u001b[39;00m event \u001b[39min\u001b[39;00m seq\u001b[39m.\u001b[39mevents]\n\u001b[0;32m    503\u001b[0m \u001b[39melif\u001b[39;00m seq\u001b[39m.\u001b[39mids \u001b[39mis\u001b[39;00m \u001b[39mnot\u001b[39;00m \u001b[39mNone\u001b[39;00m:\n\u001b[1;32m--> 504\u001b[0m     seq\u001b[39m.\u001b[39mtokens \u001b[39m=\u001b[39m \u001b[39mself\u001b[39;49m\u001b[39m.\u001b[39;49m_ids_to_tokens(seq\u001b[39m.\u001b[39;49mids)\n\u001b[0;32m    505\u001b[0m \u001b[39melif\u001b[39;00m seq\u001b[39m.\u001b[39mbytes \u001b[39mis\u001b[39;00m \u001b[39mnot\u001b[39;00m \u001b[39mNone\u001b[39;00m:\n\u001b[0;32m    506\u001b[0m     seq\u001b[39m.\u001b[39mtokens \u001b[39m=\u001b[39m \u001b[39mself\u001b[39m\u001b[39m.\u001b[39m_bytes_to_tokens(seq\u001b[39m.\u001b[39mbytes)\n",
      "File \u001b[1;32mc:\\Users\\benja\\Anaconda3\\envs\\iannwtf\\lib\\site-packages\\miditok\\midi_tokenizer.py:556\u001b[0m, in \u001b[0;36mMIDITokenizer._ids_to_tokens\u001b[1;34m(self, ids, as_str)\u001b[0m\n\u001b[0;32m    553\u001b[0m     \u001b[39mreturn\u001b[39;00m tokens\n\u001b[0;32m    555\u001b[0m \u001b[39mfor\u001b[39;00m id_ \u001b[39min\u001b[39;00m ids:\n\u001b[1;32m--> 556\u001b[0m     event_str \u001b[39m=\u001b[39m \u001b[39mself\u001b[39;49m[id_]\n\u001b[0;32m    557\u001b[0m     tokens\u001b[39m.\u001b[39mappend(event_str \u001b[39mif\u001b[39;00m as_str \u001b[39melse\u001b[39;00m Event(\u001b[39m*\u001b[39mevent_str\u001b[39m.\u001b[39msplit(\u001b[39m\"\u001b[39m\u001b[39m_\u001b[39m\u001b[39m\"\u001b[39m)))\n\u001b[0;32m    558\u001b[0m \u001b[39mreturn\u001b[39;00m tokens\n",
      "File \u001b[1;32mc:\\Users\\benja\\Anaconda3\\envs\\iannwtf\\lib\\site-packages\\miditok\\midi_tokenizer.py:1781\u001b[0m, in \u001b[0;36mMIDITokenizer.__getitem__\u001b[1;34m(self, item)\u001b[0m\n\u001b[0;32m   1779\u001b[0m     \u001b[39mreturn\u001b[39;00m \u001b[39mself\u001b[39m\u001b[39m.\u001b[39m__get_from_voc(item[\u001b[39m1\u001b[39m], item[\u001b[39m0\u001b[39m])\n\u001b[0;32m   1780\u001b[0m \u001b[39melse\u001b[39;00m:\n\u001b[1;32m-> 1781\u001b[0m     \u001b[39mreturn\u001b[39;00m \u001b[39mself\u001b[39;49m\u001b[39m.\u001b[39;49m__get_from_voc(item)\n",
      "File \u001b[1;32mc:\\Users\\benja\\Anaconda3\\envs\\iannwtf\\lib\\site-packages\\miditok\\midi_tokenizer.py:1801\u001b[0m, in \u001b[0;36mMIDITokenizer.__get_from_voc\u001b[1;34m(self, item, vocab_id)\u001b[0m\n\u001b[0;32m   1795\u001b[0m \u001b[39melse\u001b[39;00m:\n\u001b[0;32m   1796\u001b[0m     voc \u001b[39m=\u001b[39m (\n\u001b[0;32m   1797\u001b[0m         \u001b[39mself\u001b[39m\u001b[39m.\u001b[39m__vocab_base_inv[vocab_id]\n\u001b[0;32m   1798\u001b[0m         \u001b[39mif\u001b[39;00m \u001b[39mself\u001b[39m\u001b[39m.\u001b[39mis_multi_voc\n\u001b[0;32m   1799\u001b[0m         \u001b[39melse\u001b[39;00m \u001b[39mself\u001b[39m\u001b[39m.\u001b[39m__vocab_base_inv\n\u001b[0;32m   1800\u001b[0m     )\n\u001b[1;32m-> 1801\u001b[0m \u001b[39mreturn\u001b[39;00m voc[item]\n",
      "\u001b[1;31mKeyError\u001b[0m: 230"
     ]
    }
   ],
   "source": [
    "from miditoolkit import MidiFile\n",
    "midi = MidiFile('Final_Project/big_dataset/MIDI-UNPROCESSED_01-03_R1_2014_MID--AUDIO_01_R1_2014_wav--1.midi')\n",
    "coverted = tokenizer(hure,[0, False])\n"
   ]
  },
  {
   "cell_type": "code",
   "execution_count": 2,
   "metadata": {},
   "outputs": [],
   "source": [
    "tokenizer.save_params(Path('Final_Project/tokens_BPE/config.txt'))"
   ]
  }
 ],
 "metadata": {
  "kernelspec": {
   "display_name": "iannwtf",
   "language": "python",
   "name": "python3"
  },
  "language_info": {
   "codemirror_mode": {
    "name": "ipython",
    "version": 3
   },
   "file_extension": ".py",
   "mimetype": "text/x-python",
   "name": "python",
   "nbconvert_exporter": "python",
   "pygments_lexer": "ipython3",
   "version": "3.10.6"
  },
  "orig_nbformat": 4
 },
 "nbformat": 4,
 "nbformat_minor": 2
}
